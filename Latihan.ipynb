{
 "cells": [
  {
   "cell_type": "code",
   "execution_count": 86,
   "metadata": {},
   "outputs": [],
   "source": [
    "import argparse\n",
    "import getpass\n",
    "import imaplib\n",
    "import poplib\n",
    "import smtplib\n",
    "import os\n",
    "import socket \n",
    "import email\n",
    "import base64\n",
    ""
   ]
  },
  {
   "cell_type": "code",
   "execution_count": 87,
   "metadata": {},
   "outputs": [],
   "source": [
    "IMAP_SERVER = 'outlook.office365.com'\n",
    "IMAP_PORT = 993\n",
    "\n",
    "POP_SERVER = 'outlook.office365.com'\n",
    "POP_PORT = 995"
   ]
  },
  {
   "cell_type": "code",
   "execution_count": 88,
   "metadata": {},
   "outputs": [],
   "source": [
    "def imap_mail(username):\n",
    "    mailbox = imaplib.IMAP4_SSL(IMAP_SERVER, IMAP_PORT) \n",
    "    password = getpass.getpass(prompt='Masukkan Password Email: ') \n",
    "    mailbox.login(username, password)\n",
    "    mailbox.select('Inbox')\n",
    "    typ, data = mailbox.search(None, 'ALL')\n",
    "    for num in data[0].split():\n",
    "        typ, data = mailbox.fetch(num, '(RFC822)')\n",
    "        #print ('Pesan %s\\n%s\\n' % (num, data[0][1]))\n",
    "        raw_email = data[0][1]\n",
    "        raw_email_string = raw_email.decode('utf-8')\n",
    "        email_message = email.message_from_string(raw_email_string)\n",
    "        #print(email_message)\n",
    "        for response_part in data:\n",
    "            if isinstance(response_part, tuple):\n",
    "                msg = email.message_from_string(response_part[1].decode('utf-8'))\n",
    "                email_subject = msg['subject']\n",
    "                email_from = msg['from']\n",
    "                print ('From : ' + email_from + '\\n')\n",
    "                print ('Subject : ' + email_subject + '\\n')\n",
    "                print(msg.get_payload(decode=True))\n",
    "        break\n",
    "    mailbox.close()\n",
    "    mailbox.logout()\n",
    "    \n",
    "def pop_mail(username):\n",
    "    mailbox = poplib.POP3_SSL(POP_SERVER, POP_PORT) \n",
    "    mailbox.user(username)\n",
    "    password = getpass.getpass(prompt='Masukkan Password Email: ') \n",
    "    mailbox.pass_(password) \n",
    "    num_messages = len(mailbox.list()[1])\n",
    "    print ('Email Total: {}'.format(num_messages))\n",
    "    mailbox.quit()"
   ]
  },
  {
   "cell_type": "markdown",
   "metadata": {},
   "source": [
    "Buatlah sebuah fungsi yang dapat menggabungkan fungsionalitas fungsi `imap_mail()` dan `pop_mail()`"
   ]
  },
  {
   "cell_type": "code",
   "execution_count": 89,
   "metadata": {},
   "outputs": [],
   "source": [
    "def mail():\n",
    "    Pilihan = input(\"Masukkan Pilihan dengan Ketik pop_mail atau imap_mail : \")\n",
    "    if (Pilihan == \"imap_mail\"):\n",
    "        imap_mail('170010214@stikom-bali.ac.id')\n",
    "    elif (Pilihan == \"pop_mail\"):\n",
    "        pop_mail('170010214@stikom-bali.ac.id')\n",
    "    else:\n",
    "        print(\"Anda Salah Input!\")"
   ]
  },
  {
   "cell_type": "markdown",
   "metadata": {},
   "source": [
    "Panggil fungsi `mail()` di bawah ini:"
   ]
  },
  {
   "cell_type": "code",
   "execution_count": 90,
   "metadata": {
    "tags": [
     "outputPrepend"
    ]
   },
   "outputs": [
    {
     "output_type": "stream",
     "name": "stdout",
     "text": "From : \"=?utf-8?B?TWljcm9zb2Z0IFRlYW1z?=\" <noreply@email.teams.microsoft.com>\n\nSubject : =?utf-8?B?WW91IGhhdmUgYmVlbiBhZGRlZCB0byBhIGNsYXNzIHRlYW0gaW4gTWljcm9zb2Z0IFRlYW1z?=\n\nNone\n"
    }
   ],
   "source": [
    "if __name__ == '__main__':\n",
    "    mail()\n",
    "    "
   ]
  }
 ],
 "metadata": {
  "kernelspec": {
   "display_name": "Python 3",
   "language": "python",
   "name": "python3"
  },
  "language_info": {
   "codemirror_mode": {
    "name": "ipython",
    "version": 3
   },
   "file_extension": ".py",
   "mimetype": "text/x-python",
   "name": "python",
   "nbconvert_exporter": "python",
   "pygments_lexer": "ipython3",
   "version": "3.7.4-final"
  }
 },
 "nbformat": 4,
 "nbformat_minor": 4
}